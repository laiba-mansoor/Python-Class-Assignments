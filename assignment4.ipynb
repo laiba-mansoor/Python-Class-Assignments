{
 "cells": [
  {
   "cell_type": "code",
   "execution_count": 20,
   "metadata": {},
   "outputs": [
    {
     "name": "stdout",
     "output_type": "stream",
     "text": [
      "{'first_name': 'Hadi', 'last_name': 'Mansoor', 'Age': 16, 'City': 'Karachi'}\n",
      "{'first_name': 'Hadi', 'last_name': 'Mansoor', 'Age': 16, 'City': 'Karachi', 'Education': 'Matric'}\n",
      "{'first_name': 'Hadi', 'last_name': 'Mansoor', 'Age': 16, 'City': 'Karachi', 'Education': 'Intermediate'}\n",
      "{'first_name': 'Hadi', 'last_name': 'Mansoor', 'Age': 16, 'City': 'Karachi'}\n"
     ]
    }
   ],
   "source": [
    "Information ={\n",
    "    \n",
    "    \"first_name\":\"Hadi\",\n",
    "    \"last_name\" : \"Mansoor\",\n",
    "    \"Age\" : 16,\n",
    "    \"City\" : \"Karachi\"\n",
    "     \n",
    "    \n",
    "}\n",
    "print(Information)\n",
    "Information[\"Education\"] = \"Matric\"\n",
    "print(Information)  \n",
    "Information[\"Education\"] = \"Intermediate\"\n",
    "print(Information)\n",
    "del Information[\"Education\"]\n",
    "print(Information)"
   ]
  },
  {
   "cell_type": "code",
   "execution_count": 1,
   "metadata": {},
   "outputs": [
    {
     "name": "stdout",
     "output_type": "stream",
     "text": [
      "{'Tokyo': {'Country': 'Japan', 'Population': '13.5 million', 'Fun Fact': 'Tokyo, the capital of Japan is the most populous city in the world'}, 'Bangkok': {'Country': 'Thailand', 'Population': 'eight million', 'Fun Fact': 'The popular energy drink, Red Bull, was actually created in Bangkok'}, 'Berlin': {'Country': 'Germany', 'Population': '3.748 million', 'fun Fact': 'Berlin is nine times the size of Paris'}}\n"
     ]
    }
   ],
   "source": [
    "Cities = {\n",
    "    \"Tokyo\":{\n",
    "            \"Country\" : \"Japan\",\n",
    "            \"Population\" : \"13.5 million\" ,\n",
    "            \"Fun Fact\" : \"Tokyo, the capital of Japan is the most populous city in the world\"\n",
    "                },\n",
    "    \"Bangkok\":{\n",
    "         \"Country\" : \"Thailand\",\n",
    "            \"Population\" : \"eight million\" ,\n",
    "            \"Fun Fact\" :\"The popular energy drink, Red Bull, was actually created in Bangkok\"\n",
    "            \n",
    "        },\n",
    "    \"Berlin\":{\n",
    "        \"Country\" : \"Germany\",\n",
    "            \"Population\" :\"3.748 million\",\n",
    "        \"fun Fact\":\"Berlin is nine times the size of Paris\"\n",
    "        \n",
    "    }\n",
    "    }\n",
    "print(Cities)\n"
   ]
  },
  {
   "cell_type": "code",
   "execution_count": 5,
   "metadata": {},
   "outputs": [
    {
     "name": "stdout",
     "output_type": "stream",
     "text": [
      "enter your age 13\n",
      "your ticket is 15 $\n"
     ]
    }
   ],
   "source": [
    "age=int(input(\"enter your age \"))\n",
    "if age < 3:\n",
    "    print(\"your ticket is free \")\n",
    "elif age > 3 and age < 12:\n",
    "    print(\"your ticket is 10 $ \")\n",
    "elif age > 12:\n",
    "    print(\"your ticket is 15 $\")\n"
   ]
  },
  {
   "cell_type": "code",
   "execution_count": 9,
   "metadata": {},
   "outputs": [
    {
     "name": "stdout",
     "output_type": "stream",
     "text": [
      "enter your favourite book the fault in our stars\n",
      "one of my favourite books is  the fault in our stars\n"
     ]
    }
   ],
   "source": [
    "title=input(\"enter your favourite book \")\n",
    "def favourite_book(title):\n",
    "    print(\"one of my favourite books is \", title)\n",
    "favourite_book(title)"
   ]
  },
  {
   "cell_type": "code",
   "execution_count": null,
   "metadata": {},
   "outputs": [
    {
     "name": "stdout",
     "output_type": "stream",
     "text": [
      "WELCOME TO GUESS THE NUMBER GAME \n",
      "YOU HAVE THREE GUESSES \n",
      "enter any number of your choice 5\n",
      "Wrong!\n",
      "Try a greater number\n"
     ]
    }
   ],
   "source": [
    "print(\"WELCOME TO GUESS THE NUMBER GAME \")\n",
    "print(\"YOU HAVE THREE GUESSES \")\n",
    "from random import*\n",
    "a= randint(1,30)\n",
    "\n",
    "for i in range (0,3):\n",
    "    b= int(input(\"enter any number of your choice \"))\n",
    "\n",
    "    if b==a:\n",
    "        print (\"Congratulations you have guessed correctly!\")\n",
    "    elif b!= a :\n",
    "        print (\"Wrong!\")\n",
    "        if b > a :\n",
    "            print(\"Try a smaller number \")\n",
    "        elif b < a:\n",
    "            print(\"Try a greater number\")\n",
    "\n",
    "print(\"You Lost! Play again?\")\n"
   ]
  },
  {
   "cell_type": "code",
   "execution_count": null,
   "metadata": {},
   "outputs": [],
   "source": []
  }
 ],
 "metadata": {
  "kernelspec": {
   "display_name": "Python 3",
   "language": "python",
   "name": "python3"
  },
  "language_info": {
   "codemirror_mode": {
    "name": "ipython",
    "version": 3
   },
   "file_extension": ".py",
   "mimetype": "text/x-python",
   "name": "python",
   "nbconvert_exporter": "python",
   "pygments_lexer": "ipython3",
   "version": "3.7.4"
  }
 },
 "nbformat": 4,
 "nbformat_minor": 2
}

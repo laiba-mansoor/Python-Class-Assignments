{
 "cells": [
  {
   "cell_type": "code",
   "execution_count": 1,
   "metadata": {},
   "outputs": [
    {
     "name": "stdout",
     "output_type": "stream",
     "text": [
      "Twinkle, twinkle, little star,\n",
      "       How I wonder what you are!\n",
      "              Up above the world so high,\n",
      "              Like a diamond in the sky.\n",
      "    Twinkle, twinkle, little star,\n",
      "        How I wonder what you are\n"
     ]
    }
   ],
   "source": [
    "print(\"\"\"Twinkle, twinkle, little star,\n",
    "       How I wonder what you are!\n",
    "              Up above the world so high,\n",
    "              Like a diamond in the sky.\n",
    "    Twinkle, twinkle, little star,\n",
    "        How I wonder what you are\"\"\")"
   ]
  },
  {
   "cell_type": "code",
   "execution_count": 2,
   "metadata": {},
   "outputs": [
    {
     "name": "stdout",
     "output_type": "stream",
     "text": [
      "2019-11-29 22:10:53.570430\n"
     ]
    }
   ],
   "source": [
    "from datetime import datetime\n",
    "time=datetime.now()\n",
    "print(time)"
   ]
  },
  {
   "cell_type": "code",
   "execution_count": 3,
   "metadata": {},
   "outputs": [
    {
     "name": "stdout",
     "output_type": "stream",
     "text": [
      "enter radius of circle 5\n",
      "area of circle is  78.5\n"
     ]
    }
   ],
   "source": [
    "a=int(input('enter radius of circle '))\n",
    "area=3.14*(a)**2\n",
    "print('area of circle is ',area)"
   ]
  },
  {
   "cell_type": "code",
   "execution_count": 4,
   "metadata": {},
   "outputs": [
    {
     "name": "stdout",
     "output_type": "stream",
     "text": [
      "3.7.4 (default, Aug  9 2019, 18:34:13) [MSC v.1915 64 bit (AMD64)]\n"
     ]
    }
   ],
   "source": [
    "import sys\n",
    "print(sys.version)"
   ]
  },
  {
   "cell_type": "code",
   "execution_count": 5,
   "metadata": {},
   "outputs": [
    {
     "name": "stdout",
     "output_type": "stream",
     "text": [
      "enter first name a\n",
      "enter last name b\n",
      "a  b\n"
     ]
    }
   ],
   "source": [
    "a=input('enter first name ')\n",
    "b=input('enter last name ')\n",
    "print(a,\"\",b)"
   ]
  },
  {
   "cell_type": "code",
   "execution_count": 6,
   "metadata": {},
   "outputs": [
    {
     "name": "stdout",
     "output_type": "stream",
     "text": [
      "enter first number  4\n",
      "enter second number  5\n",
      "sum is  9\n"
     ]
    }
   ],
   "source": [
    "a=int(input('enter first number  '))\n",
    "b=int(input('enter second number  '))\n",
    "print('sum is ',a+b)"
   ]
  },
  {
   "cell_type": "code",
   "execution_count": null,
   "metadata": {},
   "outputs": [],
   "source": []
  }
 ],
 "metadata": {
  "kernelspec": {
   "display_name": "Python 3",
   "language": "python",
   "name": "python3"
  },
  "language_info": {
   "codemirror_mode": {
    "name": "ipython",
    "version": 3
   },
   "file_extension": ".py",
   "mimetype": "text/x-python",
   "name": "python",
   "nbconvert_exporter": "python",
   "pygments_lexer": "ipython3",
   "version": "3.7.4"
  }
 },
 "nbformat": 4,
 "nbformat_minor": 2
}

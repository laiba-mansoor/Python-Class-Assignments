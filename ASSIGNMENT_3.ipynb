{
 "cells": [
  {
   "cell_type": "code",
   "execution_count": null,
   "metadata": {},
   "outputs": [],
   "source": [
    "import math\n",
    "c=input('enter operator ')\n",
    "if c=='^':\n",
    "    e=int(input('enter a number '))\n",
    "else:\n",
    "    a=int(input('enter first number '))\n",
    "    b=int(input('enter second number '))\n",
    "\n",
    "\n",
    "if c == '+':\n",
    "    ans= a + b\n",
    "    print('the answer is ',ans)\n",
    "elif c == '-':\n",
    "    ans= a - b\n",
    "    print('the answer is ',ans)\n",
    "elif c == '*':\n",
    "    ans= a * b\n",
    "    print('the answer is ',ans)\n",
    "elif c == '/':\n",
    "    ans= a / b\n",
    "    print('the answer is ',ans)\n",
    "elif c == '^':\n",
    "    d=int(input('enter power '))\n",
    "    ans=math.pow(e,d)\n",
    "    print('the answer is ',ans)"
   ]
  },
  {
   "cell_type": "code",
   "execution_count": null,
   "metadata": {},
   "outputs": [],
   "source": [
    "\n",
    "student = {\n",
    "    \"first name\":\"Ali\",\n",
    "    \"last name\" :\"Khan\"\n",
    "    }\n",
    "student[\"roll no\"]=\"23\"\n",
    "print(student)"
   ]
  },
  {
   "cell_type": "code",
   "execution_count": null,
   "metadata": {},
   "outputs": [],
   "source": [
    "list=[1,3,45,67,89,4,5,1,67,3]\n",
    "list.sort()\n",
    "for i in range (len(list)-1):\n",
    "    if list[i] == list[i+1]:\n",
    "        print (list[i])"
   ]
  },
  {
   "cell_type": "code",
   "execution_count": null,
   "metadata": {},
   "outputs": [],
   "source": [
    "d={\n",
    "    'A':1,\n",
    "    'B':2,\n",
    "    'C':3\n",
    "}\n",
    "key=input(\"Enter key to check:\")\n",
    "if key in d.keys():\n",
    "      print(\"Key is present\")\n",
    "     \n",
    "else:\n",
    "      print(\"Key isn't present!\")"
   ]
  }
 ],
 "metadata": {
  "kernelspec": {
   "display_name": "Python 3",
   "language": "python",
   "name": "python3"
  },
  "language_info": {
   "codemirror_mode": {
    "name": "ipython",
    "version": 3
   },
   "file_extension": ".py",
   "mimetype": "text/x-python",
   "name": "python",
   "nbconvert_exporter": "python",
   "pygments_lexer": "ipython3",
   "version": "3.7.4"
  }
 },
 "nbformat": 4,
 "nbformat_minor": 2
}

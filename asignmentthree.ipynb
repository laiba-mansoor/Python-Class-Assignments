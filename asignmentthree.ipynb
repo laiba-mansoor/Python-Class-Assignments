{
 "cells": [
  {
   "cell_type": "code",
   "execution_count": 3,
   "metadata": {},
   "outputs": [
    {
     "name": "stdout",
     "output_type": "stream",
     "text": [
      "enter operator -\n",
      "enter first number 1\n",
      "enter second number 2\n",
      "the answer is  -1\n"
     ]
    }
   ],
   "source": [
    "import math\n",
    "c=input('enter operator ')\n",
    "if c=='^':\n",
    "    e=int(input('enter a number '))\n",
    "else:\n",
    "    a=int(input('enter first number '))\n",
    "    b=int(input('enter second number '))\n",
    "\n",
    "\n",
    "if c == '+':\n",
    "    ans= a + b\n",
    "    print('the answer is ',ans)\n",
    "elif c == '-':\n",
    "    ans= a - b\n",
    "    print('the answer is ',ans)\n",
    "elif c == '*':\n",
    "    ans= a * b\n",
    "    print('the answer is ',ans)\n",
    "elif c == '/':\n",
    "    ans= a / b\n",
    "    print('the answer is ',ans)\n",
    "elif c == '^':\n",
    "    d=int(input('enter power '))\n",
    "    ans=math.pow(e,d)\n",
    "    print('the answer is ',ans)\n"
   ]
  },
  {
   "cell_type": "code",
   "execution_count": null,
   "metadata": {},
   "outputs": [],
   "source": []
  }
 ],
 "metadata": {
  "kernelspec": {
   "display_name": "Python 3",
   "language": "python",
   "name": "python3"
  },
  "language_info": {
   "codemirror_mode": {
    "name": "ipython",
    "version": 3
   },
   "file_extension": ".py",
   "mimetype": "text/x-python",
   "name": "python",
   "nbconvert_exporter": "python",
   "pygments_lexer": "ipython3",
   "version": "3.7.4"
  }
 },
 "nbformat": 4,
 "nbformat_minor": 2
}

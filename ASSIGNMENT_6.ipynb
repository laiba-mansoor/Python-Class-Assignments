{
 "cells": [
  {
   "cell_type": "markdown",
   "metadata": {},
   "source": [
    "# Question 1:Define Object Oriented Programming Language?"
   ]
  },
  {
   "cell_type": "markdown",
   "metadata": {},
   "source": [
    "Object-oriented programming (OOP) refers to a type of computer programming (software design) in which programmers \n",
    "define the data type of a data structure,and also the types of operations (functions) that can be applied to the data structure.\n"
   ]
  },
  {
   "cell_type": "markdown",
   "metadata": {},
   "source": [
    "# Question 2:\n",
    "List down the Benefits of OOP?"
   ]
  },
  {
   "cell_type": "markdown",
   "metadata": {},
   "source": [
    "It provides a clear modular structure for programs which makes it good for defining abstract datatypes in which implementation details are hidden\n",
    "Objects can also be reused within an across applications. The reuse of software also lowers the cost of development. More effort is put into the object-oriented analysis and design, which lowers the overall cost of development.\n",
    "It makes software easier to maintain. Since the design is modular, part of the system can be updated in case of issues without a need to make large-scale changes\n",
    "Reuse also enables faster development. Object-oriented programming languages come with rich libraries of objects, and code developed during projects is also reusable in future projects.\n",
    "It provides a good framework for code libraries where the supplied software components can be easily adapted and modified by the programmer. This is particularly useful for developing graphical user interfaces.\n",
    "Better Productivity as OOP techniques enforce rules on a programmer that, in the long run, help her get more work done; finished programs work better, have more features and are easier to read and maintain. OOP programmers take new and existing software objects and \"stitch\" them together to make new programs. Because object libraries contain many useful functions, software developers don't have to reinvent the wheel as often; more of their time goes into making the new program."
   ]
  },
  {
   "cell_type": "markdown",
   "metadata": {},
   "source": [
    "# Question 3:\n",
    "Differentiate between function and method?"
   ]
  },
  {
   "cell_type": "markdown",
   "metadata": {},
   "source": [
    "A function is a piece of code that is called by name. It can be passed data to operate on (ie. the parameters) and can optionally return data (the return value).\n",
    "\n",
    "A method is a piece of code that is called by name that is associated with an object. In most respects it is identical to a function except for two key differences:\n",
    "\n",
    "1-It is implicitly passed the object for which it was called \n",
    "2-It is able to operate on data that is contained within the class "
   ]
  },
  {
   "cell_type": "markdown",
   "metadata": {},
   "source": [
    "# Question 4:\n",
    "Define the following terms:\n",
    "1. Class\n",
    "2. Object\n",
    "3. Attribute\n",
    "4. Behavior"
   ]
  },
  {
   "cell_type": "markdown",
   "metadata": {},
   "source": [
    "CLASS:\n",
    "A class is a kind of data type, just like a string, integer or list.\n",
    "OBJECT:\n",
    "objects are the things you think about first in designing a program and they are also the units of code that are eventually derived from the process.\n",
    "ATTRIBUTE:\n",
    "attribute is a specification that defines a property of an object, element, or file. It may also refer to or set the specific value for a given instance of such.\n",
    "BEHAVIOUR:\n",
    "Objects in Python are generally classified according to their behaviors and the features that they implement."
   ]
  },
  {
   "cell_type": "markdown",
   "metadata": {},
   "source": [
    "# Question 5:\n",
    "Write a code in python in which create a class named it Car which\n",
    "have 5 attributes such like (model, color and name etc.) and 3\n",
    "methods. And create 5 object instance from that class."
   ]
  },
  {
   "cell_type": "code",
   "execution_count": 11,
   "metadata": {},
   "outputs": [
    {
     "name": "stdout",
     "output_type": "stream",
     "text": [
      "charade\n",
      "WQR768,black\n",
      "3M\n",
      "3000 miles\n",
      "9\n",
      "5M updated price\n",
      "blue updated colour\n",
      "DTG678 updatemodel\n"
     ]
    }
   ],
   "source": [
    "class car():\n",
    "    def __init__(a,name,model,colour,price,mileage):\n",
    "        a.name=name\n",
    "        a.model=model\n",
    "        a.colour=colour\n",
    "        a.price=price\n",
    "        a.mileage=mileage\n",
    "    def updateprice(a,newprice):\n",
    "        a.price=newprice\n",
    "    def updatecolour(a,newcolour):\n",
    "        a.colour=newcolour\n",
    "    def updatemodel(a,newmodel):\n",
    "        a.model=newmodel\n",
    "\n",
    "client1=car('charade','WQR768,''black','3M','3000 miles',9)\n",
    "client2=car('jeep','ADE709','blue','30M','9000 miles')\n",
    "client3=car('civic','SFG333','blue','70M','20000 miles')\n",
    "client4=car('jeep','OYU68','blue','120M','500 miles')\n",
    "client5=car('prius','EHT4766','red','140M','100miles')\n",
    "print(client1.name)\n",
    "print(client1.model)\n",
    "print(client1.colour)\n",
    "print(client1.price)\n",
    "print(client1.mileage)\n",
    "client1.updateprice('5M')\n",
    "print(client1.price , 'updated price')\n",
    "client1.updatecolour('blue')\n",
    "print(client1.colour , 'updated colour')\n",
    "client1.updatemodel('DTG678')\n",
    "print(client1.model , 'updatemodel')"
   ]
  },
  {
   "cell_type": "code",
   "execution_count": null,
   "metadata": {},
   "outputs": [],
   "source": []
  }
 ],
 "metadata": {
  "kernelspec": {
   "display_name": "Python 3",
   "language": "python",
   "name": "python3"
  },
  "language_info": {
   "codemirror_mode": {
    "name": "ipython",
    "version": 3
   },
   "file_extension": ".py",
   "mimetype": "text/x-python",
   "name": "python",
   "nbconvert_exporter": "python",
   "pygments_lexer": "ipython3",
   "version": "3.7.4"
  }
 },
 "nbformat": 4,
 "nbformat_minor": 2
}
